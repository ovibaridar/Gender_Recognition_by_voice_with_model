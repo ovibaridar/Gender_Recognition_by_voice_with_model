{
 "cells": [
  {
   "cell_type": "code",
   "execution_count": 3,
   "id": "6c93636d",
   "metadata": {},
   "outputs": [],
   "source": [
    "import pandas as pd\n",
    "import numpy as np\n",
    "import seaborn as sn\n",
    "import joblib as jb\n",
    "import warnings \n",
    "warnings.simplefilter(\"ignore\")"
   ]
  },
  {
   "cell_type": "code",
   "execution_count": 4,
   "id": "c5f89bb1",
   "metadata": {},
   "outputs": [],
   "source": [
    "dtc = jb.load('test_with_rnc')"
   ]
  },
  {
   "cell_type": "code",
   "execution_count": 5,
   "id": "14f20a82",
   "metadata": {},
   "outputs": [
    {
     "data": {
      "text/html": [
       "<style>#sk-container-id-1 {color: black;}#sk-container-id-1 pre{padding: 0;}#sk-container-id-1 div.sk-toggleable {background-color: white;}#sk-container-id-1 label.sk-toggleable__label {cursor: pointer;display: block;width: 100%;margin-bottom: 0;padding: 0.3em;box-sizing: border-box;text-align: center;}#sk-container-id-1 label.sk-toggleable__label-arrow:before {content: \"▸\";float: left;margin-right: 0.25em;color: #696969;}#sk-container-id-1 label.sk-toggleable__label-arrow:hover:before {color: black;}#sk-container-id-1 div.sk-estimator:hover label.sk-toggleable__label-arrow:before {color: black;}#sk-container-id-1 div.sk-toggleable__content {max-height: 0;max-width: 0;overflow: hidden;text-align: left;background-color: #f0f8ff;}#sk-container-id-1 div.sk-toggleable__content pre {margin: 0.2em;color: black;border-radius: 0.25em;background-color: #f0f8ff;}#sk-container-id-1 input.sk-toggleable__control:checked~div.sk-toggleable__content {max-height: 200px;max-width: 100%;overflow: auto;}#sk-container-id-1 input.sk-toggleable__control:checked~label.sk-toggleable__label-arrow:before {content: \"▾\";}#sk-container-id-1 div.sk-estimator input.sk-toggleable__control:checked~label.sk-toggleable__label {background-color: #d4ebff;}#sk-container-id-1 div.sk-label input.sk-toggleable__control:checked~label.sk-toggleable__label {background-color: #d4ebff;}#sk-container-id-1 input.sk-hidden--visually {border: 0;clip: rect(1px 1px 1px 1px);clip: rect(1px, 1px, 1px, 1px);height: 1px;margin: -1px;overflow: hidden;padding: 0;position: absolute;width: 1px;}#sk-container-id-1 div.sk-estimator {font-family: monospace;background-color: #f0f8ff;border: 1px dotted black;border-radius: 0.25em;box-sizing: border-box;margin-bottom: 0.5em;}#sk-container-id-1 div.sk-estimator:hover {background-color: #d4ebff;}#sk-container-id-1 div.sk-parallel-item::after {content: \"\";width: 100%;border-bottom: 1px solid gray;flex-grow: 1;}#sk-container-id-1 div.sk-label:hover label.sk-toggleable__label {background-color: #d4ebff;}#sk-container-id-1 div.sk-serial::before {content: \"\";position: absolute;border-left: 1px solid gray;box-sizing: border-box;top: 0;bottom: 0;left: 50%;z-index: 0;}#sk-container-id-1 div.sk-serial {display: flex;flex-direction: column;align-items: center;background-color: white;padding-right: 0.2em;padding-left: 0.2em;position: relative;}#sk-container-id-1 div.sk-item {position: relative;z-index: 1;}#sk-container-id-1 div.sk-parallel {display: flex;align-items: stretch;justify-content: center;background-color: white;position: relative;}#sk-container-id-1 div.sk-item::before, #sk-container-id-1 div.sk-parallel-item::before {content: \"\";position: absolute;border-left: 1px solid gray;box-sizing: border-box;top: 0;bottom: 0;left: 50%;z-index: -1;}#sk-container-id-1 div.sk-parallel-item {display: flex;flex-direction: column;z-index: 1;position: relative;background-color: white;}#sk-container-id-1 div.sk-parallel-item:first-child::after {align-self: flex-end;width: 50%;}#sk-container-id-1 div.sk-parallel-item:last-child::after {align-self: flex-start;width: 50%;}#sk-container-id-1 div.sk-parallel-item:only-child::after {width: 0;}#sk-container-id-1 div.sk-dashed-wrapped {border: 1px dashed gray;margin: 0 0.4em 0.5em 0.4em;box-sizing: border-box;padding-bottom: 0.4em;background-color: white;}#sk-container-id-1 div.sk-label label {font-family: monospace;font-weight: bold;display: inline-block;line-height: 1.2em;}#sk-container-id-1 div.sk-label-container {text-align: center;}#sk-container-id-1 div.sk-container {/* jupyter's `normalize.less` sets `[hidden] { display: none; }` but bootstrap.min.css set `[hidden] { display: none !important; }` so we also need the `!important` here to be able to override the default hidden behavior on the sphinx rendered scikit-learn.org. See: https://github.com/scikit-learn/scikit-learn/issues/21755 */display: inline-block !important;position: relative;}#sk-container-id-1 div.sk-text-repr-fallback {display: none;}</style><div id=\"sk-container-id-1\" class=\"sk-top-container\"><div class=\"sk-text-repr-fallback\"><pre>RandomForestClassifier()</pre><b>In a Jupyter environment, please rerun this cell to show the HTML representation or trust the notebook. <br />On GitHub, the HTML representation is unable to render, please try loading this page with nbviewer.org.</b></div><div class=\"sk-container\" hidden><div class=\"sk-item\"><div class=\"sk-estimator sk-toggleable\"><input class=\"sk-toggleable__control sk-hidden--visually\" id=\"sk-estimator-id-1\" type=\"checkbox\" checked><label for=\"sk-estimator-id-1\" class=\"sk-toggleable__label sk-toggleable__label-arrow\">RandomForestClassifier</label><div class=\"sk-toggleable__content\"><pre>RandomForestClassifier()</pre></div></div></div></div></div>"
      ],
      "text/plain": [
       "RandomForestClassifier()"
      ]
     },
     "execution_count": 5,
     "metadata": {},
     "output_type": "execute_result"
    }
   ],
   "source": [
    "dtc"
   ]
  },
  {
   "cell_type": "code",
   "execution_count": 9,
   "id": "55630441",
   "metadata": {},
   "outputs": [],
   "source": [
    "import librosa\n",
    "from scipy.stats import kurtosis\n",
    "\n",
    "\n",
    "data_frame = pd.DataFrame(\n",
    "    columns=['mean_freq', 'sd_freq', 'median_freq', 'q25_freq', 'q75_freq', 'iqr_freq', 'skewness', 'kurtosis_val',\n",
    "             'spectral_flatness', 'tempogram', 'mode_freq', 'centroid_freq', 'peak_freq', 'mean_fun', 'min_fun',\n",
    "             'max_fun', 'mean_dom', 'min_dom', 'max_dom', 'fund_freq', 'mod_index'])\n",
    "\n",
    "\n",
    "    # Load the audio file\n",
    "audio_file = 'toufic.wav'\n",
    "y, sr = librosa.load(audio_file)\n",
    "\n",
    "    # Calculate mean frequency using the provided function\n",
    "fft_result = np.fft.fft(y)\n",
    "fft_freq = np.fft.fftfreq(len(fft_result), 1 / sr)\n",
    "\n",
    "    # Find the index of the frequency with the highest amplitude\n",
    "max_freq_index = np.argmax(np.abs(fft_result))\n",
    "\n",
    "    # Calculate mean frequency in KHz\n",
    "mean_freq = np.abs(fft_freq[max_freq_index]) / 1000\n",
    "\n",
    "    # Calculate other acoustic features\n",
    "sd_freq = np.std(librosa.feature.spectral_centroid(y=y, sr=sr)[0])\n",
    "median_freq = np.median(librosa.feature.spectral_centroid(y=y, sr=sr)[0]) / 1000\n",
    "q25_freq = np.percentile(librosa.feature.spectral_centroid(y=y, sr=sr)[0], 25) / 1000\n",
    "q75_freq = np.percentile(librosa.feature.spectral_centroid(y=y, sr=sr)[0], 75) / 1000\n",
    "iqr_freq = (q75_freq - q25_freq) / 1000\n",
    "skewness = float(librosa.feature.spectral_bandwidth(y=y, sr=sr).std())\n",
    "kurtosis_val = float(kurtosis(librosa.feature.spectral_bandwidth(y=y, sr=sr)[0])) / 1000\n",
    "\n",
    "    # Calculate spectral flatness and extract a single scalar value\n",
    "spectral_flatness = float(np.mean(librosa.feature.spectral_flatness(y=y)))\n",
    "\n",
    "    # Calculate mode frequency using librosa.feature.tempogram\n",
    "tempogram = librosa.feature.tempogram(y=y, sr=sr)\n",
    "tempogram_mean = float(np.mean(tempogram)) / 1000\n",
    "\n",
    "    # Calculate other features\n",
    "mode_freq = float(np.argmax(tempogram_mean))\n",
    "centroid_freq = float(librosa.feature.spectral_centroid(y=y, sr=sr)[0].mean())\n",
    "peak_freq = float(librosa.feature.spectral_centroid(y=y, sr=sr)[0].argmax())\n",
    "\n",
    "    # Additional features related to fundamental frequency\n",
    "mean_fun = np.mean(librosa.feature.rms(y=y)) / 1000\n",
    "min_fun = np.min(librosa.feature.rms(y=y)) / 1000\n",
    "max_fun = np.max(librosa.feature.rms(y=y)) / 1000\n",
    "\n",
    "    # Additional features related to dominant frequency\n",
    "mean_dom = np.mean(tempogram)\n",
    "min_dom = np.min(tempogram)\n",
    "max_dom = np.max(tempogram)\n",
    "dom_range = (max_dom - min_dom)\n",
    "\n",
    "    # Modulation index\n",
    "fund_freq = librosa.yin(y, fmin=librosa.note_to_hz('C2'), fmax=librosa.note_to_hz('C7'))\n",
    "mod_index = np.sum(np.abs(np.diff(fund_freq))) / (fund_freq.max() - fund_freq.min())\n",
    "        \n",
    "    # Create a DataFrame to store the results\n",
    "data_frame.loc[0] = [mean_freq, sd_freq, median_freq, q25_freq, q75_freq, iqr_freq, skewness, kurtosis_val,\n",
    "                         spectral_flatness, tempogram_mean, mode_freq, centroid_freq, peak_freq, mean_fun, min_fun,\n",
    "                         max_fun, mean_dom, min_dom, max_dom, fund_freq.mean(), mod_index]"
   ]
  },
  {
   "cell_type": "code",
   "execution_count": 10,
   "id": "32ee31c0",
   "metadata": {},
   "outputs": [
    {
     "data": {
      "text/html": [
       "<div>\n",
       "<style scoped>\n",
       "    .dataframe tbody tr th:only-of-type {\n",
       "        vertical-align: middle;\n",
       "    }\n",
       "\n",
       "    .dataframe tbody tr th {\n",
       "        vertical-align: top;\n",
       "    }\n",
       "\n",
       "    .dataframe thead th {\n",
       "        text-align: right;\n",
       "    }\n",
       "</style>\n",
       "<table border=\"1\" class=\"dataframe\">\n",
       "  <thead>\n",
       "    <tr style=\"text-align: right;\">\n",
       "      <th></th>\n",
       "      <th>mean_freq</th>\n",
       "      <th>sd_freq</th>\n",
       "      <th>median_freq</th>\n",
       "      <th>q25_freq</th>\n",
       "      <th>q75_freq</th>\n",
       "      <th>iqr_freq</th>\n",
       "      <th>skewness</th>\n",
       "      <th>kurtosis_val</th>\n",
       "      <th>spectral_flatness</th>\n",
       "      <th>tempogram</th>\n",
       "      <th>...</th>\n",
       "      <th>centroid_freq</th>\n",
       "      <th>peak_freq</th>\n",
       "      <th>mean_fun</th>\n",
       "      <th>min_fun</th>\n",
       "      <th>max_fun</th>\n",
       "      <th>mean_dom</th>\n",
       "      <th>min_dom</th>\n",
       "      <th>max_dom</th>\n",
       "      <th>fund_freq</th>\n",
       "      <th>mod_index</th>\n",
       "    </tr>\n",
       "  </thead>\n",
       "  <tbody>\n",
       "    <tr>\n",
       "      <th>0</th>\n",
       "      <td>0.136879</td>\n",
       "      <td>486.133678</td>\n",
       "      <td>0.74904</td>\n",
       "      <td>0.483695</td>\n",
       "      <td>0.915244</td>\n",
       "      <td>0.000432</td>\n",
       "      <td>522.399595</td>\n",
       "      <td>-0.000499</td>\n",
       "      <td>0.003167</td>\n",
       "      <td>0.00012</td>\n",
       "      <td>...</td>\n",
       "      <td>833.27257</td>\n",
       "      <td>1.0</td>\n",
       "      <td>0.000011</td>\n",
       "      <td>7.665113e-09</td>\n",
       "      <td>0.000065</td>\n",
       "      <td>0.119698</td>\n",
       "      <td>-1.873980e-16</td>\n",
       "      <td>1.0</td>\n",
       "      <td>146.55524</td>\n",
       "      <td>5.327745</td>\n",
       "    </tr>\n",
       "  </tbody>\n",
       "</table>\n",
       "<p>1 rows × 21 columns</p>\n",
       "</div>"
      ],
      "text/plain": [
       "   mean_freq     sd_freq  median_freq  q25_freq  q75_freq  iqr_freq  \\\n",
       "0   0.136879  486.133678      0.74904  0.483695  0.915244  0.000432   \n",
       "\n",
       "     skewness  kurtosis_val  spectral_flatness  tempogram  ...  centroid_freq  \\\n",
       "0  522.399595     -0.000499           0.003167    0.00012  ...      833.27257   \n",
       "\n",
       "   peak_freq  mean_fun       min_fun   max_fun  mean_dom       min_dom  \\\n",
       "0        1.0  0.000011  7.665113e-09  0.000065  0.119698 -1.873980e-16   \n",
       "\n",
       "   max_dom  fund_freq  mod_index  \n",
       "0      1.0  146.55524   5.327745  \n",
       "\n",
       "[1 rows x 21 columns]"
      ]
     },
     "execution_count": 10,
     "metadata": {},
     "output_type": "execute_result"
    }
   ],
   "source": [
    "data_frame"
   ]
  },
  {
   "cell_type": "code",
   "execution_count": 11,
   "id": "af789a18",
   "metadata": {},
   "outputs": [
    {
     "data": {
      "text/plain": [
       "array([0], dtype=int64)"
      ]
     },
     "execution_count": 11,
     "metadata": {},
     "output_type": "execute_result"
    }
   ],
   "source": [
    "dtc.predict(data_frame)"
   ]
  },
  {
   "cell_type": "code",
   "execution_count": null,
   "id": "8425d47e",
   "metadata": {},
   "outputs": [],
   "source": []
  },
  {
   "cell_type": "code",
   "execution_count": null,
   "id": "5f39a84b",
   "metadata": {},
   "outputs": [],
   "source": []
  }
 ],
 "metadata": {
  "kernelspec": {
   "display_name": "Python 3 (ipykernel)",
   "language": "python",
   "name": "python3"
  },
  "language_info": {
   "codemirror_mode": {
    "name": "ipython",
    "version": 3
   },
   "file_extension": ".py",
   "mimetype": "text/x-python",
   "name": "python",
   "nbconvert_exporter": "python",
   "pygments_lexer": "ipython3",
   "version": "3.11.5"
  }
 },
 "nbformat": 4,
 "nbformat_minor": 5
}
