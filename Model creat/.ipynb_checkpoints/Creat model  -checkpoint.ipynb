{
 "cells": [
  {
   "cell_type": "code",
   "execution_count": 16,
   "id": "39971123",
   "metadata": {},
   "outputs": [],
   "source": [
    "import pandas as pd\n",
    "import numpy as np\n",
    "import matplotlib.pyplot as plt\n",
    "import seaborn as sn\n",
    "import warnings\n",
    "warnings.filterwarnings(\"ignore\")"
   ]
  },
  {
   "cell_type": "code",
   "execution_count": 17,
   "id": "eb1ddfca",
   "metadata": {},
   "outputs": [],
   "source": [
    "path = 'https://raw.githubusercontent.com/ovibaridar/Data_sets/main/Male%20and%20female%20Voice%20data%20creat%20by%20al%20arman%20ovi%20.csv'"
   ]
  },
  {
   "cell_type": "code",
   "execution_count": 18,
   "id": "6987adbd",
   "metadata": {},
   "outputs": [],
   "source": [
    "data = pd.read_csv(path)"
   ]
  },
  {
   "cell_type": "code",
   "execution_count": 19,
   "id": "07a7ee11",
   "metadata": {},
   "outputs": [
    {
     "data": {
      "text/html": [
       "<div>\n",
       "<style scoped>\n",
       "    .dataframe tbody tr th:only-of-type {\n",
       "        vertical-align: middle;\n",
       "    }\n",
       "\n",
       "    .dataframe tbody tr th {\n",
       "        vertical-align: top;\n",
       "    }\n",
       "\n",
       "    .dataframe thead th {\n",
       "        text-align: right;\n",
       "    }\n",
       "</style>\n",
       "<table border=\"1\" class=\"dataframe\">\n",
       "  <thead>\n",
       "    <tr style=\"text-align: right;\">\n",
       "      <th></th>\n",
       "      <th>mean_freq</th>\n",
       "      <th>sd_freq</th>\n",
       "      <th>median_freq</th>\n",
       "      <th>q25_freq</th>\n",
       "      <th>q75_freq</th>\n",
       "      <th>iqr_freq</th>\n",
       "      <th>skewness</th>\n",
       "      <th>kurtosis_val</th>\n",
       "      <th>spectral_flatness</th>\n",
       "      <th>tempogram</th>\n",
       "      <th>...</th>\n",
       "      <th>peak_freq</th>\n",
       "      <th>mean_fun</th>\n",
       "      <th>min_fun</th>\n",
       "      <th>max_fun</th>\n",
       "      <th>mean_dom</th>\n",
       "      <th>min_dom</th>\n",
       "      <th>max_dom</th>\n",
       "      <th>fund_freq</th>\n",
       "      <th>mod_index</th>\n",
       "      <th>label</th>\n",
       "    </tr>\n",
       "  </thead>\n",
       "  <tbody>\n",
       "    <tr>\n",
       "      <th>0</th>\n",
       "      <td>0.101925</td>\n",
       "      <td>1258.484673</td>\n",
       "      <td>1.101064</td>\n",
       "      <td>0.911917</td>\n",
       "      <td>2.156636</td>\n",
       "      <td>0.001245</td>\n",
       "      <td>616.124085</td>\n",
       "      <td>-0.001148</td>\n",
       "      <td>0.004659</td>\n",
       "      <td>0.000133</td>\n",
       "      <td>...</td>\n",
       "      <td>166.0</td>\n",
       "      <td>0.000019</td>\n",
       "      <td>5.290000e-13</td>\n",
       "      <td>0.000064</td>\n",
       "      <td>0.132647</td>\n",
       "      <td>-0.0</td>\n",
       "      <td>1.0</td>\n",
       "      <td>205.312043</td>\n",
       "      <td>15.314357</td>\n",
       "      <td>male</td>\n",
       "    </tr>\n",
       "    <tr>\n",
       "      <th>1</th>\n",
       "      <td>0.141755</td>\n",
       "      <td>1087.412699</td>\n",
       "      <td>2.279823</td>\n",
       "      <td>1.597941</td>\n",
       "      <td>3.019070</td>\n",
       "      <td>0.001421</td>\n",
       "      <td>303.676155</td>\n",
       "      <td>-0.000125</td>\n",
       "      <td>0.000518</td>\n",
       "      <td>0.000146</td>\n",
       "      <td>...</td>\n",
       "      <td>153.0</td>\n",
       "      <td>0.000054</td>\n",
       "      <td>2.821115e-06</td>\n",
       "      <td>0.000133</td>\n",
       "      <td>0.146389</td>\n",
       "      <td>-0.0</td>\n",
       "      <td>1.0</td>\n",
       "      <td>239.989176</td>\n",
       "      <td>29.892067</td>\n",
       "      <td>male</td>\n",
       "    </tr>\n",
       "    <tr>\n",
       "      <th>2</th>\n",
       "      <td>0.086956</td>\n",
       "      <td>772.431710</td>\n",
       "      <td>0.833124</td>\n",
       "      <td>0.655712</td>\n",
       "      <td>1.613551</td>\n",
       "      <td>0.000958</td>\n",
       "      <td>517.743718</td>\n",
       "      <td>-0.000878</td>\n",
       "      <td>0.000444</td>\n",
       "      <td>0.000160</td>\n",
       "      <td>...</td>\n",
       "      <td>124.0</td>\n",
       "      <td>0.000011</td>\n",
       "      <td>3.726945e-07</td>\n",
       "      <td>0.000037</td>\n",
       "      <td>0.160206</td>\n",
       "      <td>-0.0</td>\n",
       "      <td>1.0</td>\n",
       "      <td>172.931651</td>\n",
       "      <td>10.603064</td>\n",
       "      <td>male</td>\n",
       "    </tr>\n",
       "  </tbody>\n",
       "</table>\n",
       "<p>3 rows × 22 columns</p>\n",
       "</div>"
      ],
      "text/plain": [
       "   mean_freq      sd_freq  median_freq  q25_freq  q75_freq  iqr_freq  \\\n",
       "0   0.101925  1258.484673     1.101064  0.911917  2.156636  0.001245   \n",
       "1   0.141755  1087.412699     2.279823  1.597941  3.019070  0.001421   \n",
       "2   0.086956   772.431710     0.833124  0.655712  1.613551  0.000958   \n",
       "\n",
       "     skewness  kurtosis_val  spectral_flatness  tempogram  ...  peak_freq  \\\n",
       "0  616.124085     -0.001148           0.004659   0.000133  ...      166.0   \n",
       "1  303.676155     -0.000125           0.000518   0.000146  ...      153.0   \n",
       "2  517.743718     -0.000878           0.000444   0.000160  ...      124.0   \n",
       "\n",
       "   mean_fun       min_fun   max_fun  mean_dom  min_dom  max_dom   fund_freq  \\\n",
       "0  0.000019  5.290000e-13  0.000064  0.132647     -0.0      1.0  205.312043   \n",
       "1  0.000054  2.821115e-06  0.000133  0.146389     -0.0      1.0  239.989176   \n",
       "2  0.000011  3.726945e-07  0.000037  0.160206     -0.0      1.0  172.931651   \n",
       "\n",
       "   mod_index  label  \n",
       "0  15.314357   male  \n",
       "1  29.892067   male  \n",
       "2  10.603064   male  \n",
       "\n",
       "[3 rows x 22 columns]"
      ]
     },
     "execution_count": 19,
     "metadata": {},
     "output_type": "execute_result"
    }
   ],
   "source": [
    "data.head(3)"
   ]
  },
  {
   "cell_type": "code",
   "execution_count": 20,
   "id": "3b8ef2a8",
   "metadata": {},
   "outputs": [
    {
     "data": {
      "text/plain": [
       "label\n",
       "0    3682\n",
       "1    2311\n",
       "Name: count, dtype: int64"
      ]
     },
     "execution_count": 20,
     "metadata": {},
     "output_type": "execute_result"
    }
   ],
   "source": [
    "data['label'] = data['label'].replace(['male', 'female'],[0,1])\n",
    "data['label'].value_counts()"
   ]
  },
  {
   "cell_type": "code",
   "execution_count": 21,
   "id": "7f1f9dca",
   "metadata": {},
   "outputs": [
    {
     "data": {
      "text/plain": [
       "<Axes: xlabel='label', ylabel='count'>"
      ]
     },
     "execution_count": 21,
     "metadata": {},
     "output_type": "execute_result"
    },
    {
     "data": {
      "image/png": "[encoded data removed]",
      "text/plain": [
       "<Figure size 640x480 with 1 Axes>"
      ]
     },
     "metadata": {},
     "output_type": "display_data"
    }
   ],
   "source": [
    "sn.countplot(data,x='label')"
   ]
  },
  {
   "cell_type": "code",
   "execution_count": 22,
   "id": "75a52cc6",
   "metadata": {},
   "outputs": [
    {
     "data": {
      "text/plain": [
       "mean_freq            0\n",
       "sd_freq              0\n",
       "median_freq          0\n",
       "q25_freq             0\n",
       "q75_freq             0\n",
       "iqr_freq             0\n",
       "skewness             0\n",
       "kurtosis_val         0\n",
       "spectral_flatness    0\n",
       "tempogram            0\n",
       "mode_freq            0\n",
       "centroid_freq        0\n",
       "peak_freq            0\n",
       "mean_fun             0\n",
       "min_fun              0\n",
       "max_fun              0\n",
       "mean_dom             0\n",
       "min_dom              0\n",
       "max_dom              0\n",
       "fund_freq            0\n",
       "mod_index            0\n",
       "label                0\n",
       "dtype: int64"
      ]
     },
     "execution_count": 22,
     "metadata": {},
     "output_type": "execute_result"
    }
   ],
   "source": [
    "data.isnull().sum()"
   ]
  },
  {
   "cell_type": "code",
   "execution_count": 23,
   "id": "fcc67148",
   "metadata": {},
   "outputs": [
    {
     "data": {
      "text/plain": [
       "0"
      ]
     },
     "execution_count": 23,
     "metadata": {},
     "output_type": "execute_result"
    }
   ],
   "source": [
    "data.duplicated().sum()"
   ]
  },
  {
   "cell_type": "code",
   "execution_count": 24,
   "id": "9efa923c",
   "metadata": {},
   "outputs": [],
   "source": [
    "from imblearn.over_sampling import RandomOverSampler\n",
    "random = RandomOverSampler()"
   ]
  },
  {
   "cell_type": "code",
   "execution_count": 25,
   "id": "62e67355",
   "metadata": {},
   "outputs": [],
   "source": [
    "x = data.drop('label', axis=1)\n",
    "y = data[['label']]\n"
   ]
  },
  {
   "cell_type": "code",
   "execution_count": 26,
   "id": "c2fb5d82",
   "metadata": {},
   "outputs": [],
   "source": [
    "from sklearn.preprocessing import MinMaxScaler\n",
    "mms = MinMaxScaler()"
   ]
  },
  {
   "cell_type": "code",
   "execution_count": 27,
   "id": "c047552a",
   "metadata": {},
   "outputs": [
    {
     "data": {
      "text/plain": [
       "(5993, 21)"
      ]
     },
     "execution_count": 27,
     "metadata": {},
     "output_type": "execute_result"
    }
   ],
   "source": [
    "x.shape"
   ]
  },
  {
   "cell_type": "code",
   "execution_count": 28,
   "id": "a768f57f",
   "metadata": {},
   "outputs": [
    {
     "data": {
      "text/plain": [
       "(5993, 1)"
      ]
     },
     "execution_count": 28,
     "metadata": {},
     "output_type": "execute_result"
    }
   ],
   "source": [
    "y.shape"
   ]
  },
  {
   "cell_type": "code",
   "execution_count": 29,
   "id": "0437fa23",
   "metadata": {},
   "outputs": [
    {
     "data": {
      "text/plain": [
       "array([[0.03004972, 0.76523523, 0.27111919, ..., 0.        , 0.17992479,\n",
       "        0.05880798],\n",
       "       [0.0417925 , 0.65040209, 0.6521379 , ..., 0.        , 0.22760187,\n",
       "        0.1204927 ],\n",
       "       [0.02563651, 0.4389691 , 0.18451089, ..., 0.        , 0.13540547,\n",
       "        0.03887243],\n",
       "       ...,\n",
       "       [0.15223282, 0.55023145, 0.32330813, ..., 0.        , 0.36309954,\n",
       "        0.05010045],\n",
       "       [0.15957926, 0.26605169, 0.45490207, ..., 0.        , 0.47369032,\n",
       "        0.07614756],\n",
       "       [0.01442297, 0.35125301, 0.37330082, ..., 0.        , 0.12168523,\n",
       "        0.03127653]])"
      ]
     },
     "execution_count": 29,
     "metadata": {},
     "output_type": "execute_result"
    }
   ],
   "source": [
    "x = mms.fit_transform(x)\n",
    "x\n"
   ]
  },
  {
   "cell_type": "code",
   "execution_count": 66,
   "id": "f9ec8533",
   "metadata": {},
   "outputs": [
    {
     "data": {
      "text/plain": [
       "array([3.00497182e-02, 7.65235234e-01, 2.71119188e-01, 2.52472186e-01,\n",
       "       4.72661518e-01, 4.94098958e-01, 8.92513094e-01, 9.34057377e-03,\n",
       "       7.82084360e-02, 3.47423598e-01, 0.00000000e+00, 4.36922032e-01,\n",
       "       5.11871724e-02, 3.02400792e-02, 1.73637157e-09, 7.57324401e-02,\n",
       "       3.47423598e-01, 1.00000000e-15, 0.00000000e+00, 1.79924789e-01,\n",
       "       5.88079821e-02])"
      ]
     },
     "execution_count": 66,
     "metadata": {},
     "output_type": "execute_result"
    }
   ],
   "source": [
    "x ,y = random.fit_resample(x,y)\n",
    "x[0]"
   ]
  },
  {
   "cell_type": "code",
   "execution_count": 31,
   "id": "ae937a35",
   "metadata": {},
   "outputs": [
    {
     "data": {
      "text/plain": [
       "label\n",
       "0        3682\n",
       "1        3682\n",
       "Name: count, dtype: int64"
      ]
     },
     "execution_count": 31,
     "metadata": {},
     "output_type": "execute_result"
    }
   ],
   "source": [
    "y.value_counts()"
   ]
  },
  {
   "cell_type": "code",
   "execution_count": 32,
   "id": "d430fd06",
   "metadata": {},
   "outputs": [],
   "source": [
    "from sklearn.model_selection import train_test_split"
   ]
  },
  {
   "cell_type": "code",
   "execution_count": 33,
   "id": "85a6aaee",
   "metadata": {},
   "outputs": [],
   "source": [
    "xtrain,xtest,ytrain,ytest =train_test_split(x,y,random_state=42 , test_size=.30)"
   ]
  },
  {
   "cell_type": "code",
   "execution_count": 34,
   "id": "86da46dd",
   "metadata": {},
   "outputs": [],
   "source": [
    "from sklearn.linear_model import LogisticRegression\n",
    "from sklearn.metrics import classification_report ,confusion_matrix\n",
    "lr = LogisticRegression()\n",
    "from sklearn.tree import DecisionTreeClassifier\n",
    "dtc =DecisionTreeClassifier()"
   ]
  },
  {
   "cell_type": "code",
   "execution_count": 35,
   "id": "f70b79bb",
   "metadata": {
    "scrolled": true
   },
   "outputs": [
    {
     "data": {
      "text/html": [
       "<style>#sk-container-id-1 {color: black;}#sk-container-id-1 pre{padding: 0;}#sk-container-id-1 div.sk-toggleable {background-color: white;}#sk-container-id-1 label.sk-toggleable__label {cursor: pointer;display: block;width: 100%;margin-bottom: 0;padding: 0.3em;box-sizing: border-box;text-align: center;}#sk-container-id-1 label.sk-toggleable__label-arrow:before {content: \"▸\";float: left;margin-right: 0.25em;color: #696969;}#sk-container-id-1 label.sk-toggleable__label-arrow:hover:before {color: black;}#sk-container-id-1 div.sk-estimator:hover label.sk-toggleable__label-arrow:before {color: black;}#sk-container-id-1 div.sk-toggleable__content {max-height: 0;max-width: 0;overflow: hidden;text-align: left;background-color: #f0f8ff;}#sk-container-id-1 div.sk-toggleable__content pre {margin: 0.2em;color: black;border-radius: 0.25em;background-color: #f0f8ff;}#sk-container-id-1 input.sk-toggleable__control:checked~div.sk-toggleable__content {max-height: 200px;max-width: 100%;overflow: auto;}#sk-container-id-1 input.sk-toggleable__control:checked~label.sk-toggleable__label-arrow:before {content: \"▾\";}#sk-container-id-1 div.sk-estimator input.sk-toggleable__control:checked~label.sk-toggleable__label {background-color: #d4ebff;}#sk-container-id-1 div.sk-label input.sk-toggleable__control:checked~label.sk-toggleable__label {background-color: #d4ebff;}#sk-container-id-1 input.sk-hidden--visually {border: 0;clip: rect(1px 1px 1px 1px);clip: rect(1px, 1px, 1px, 1px);height: 1px;margin: -1px;overflow: hidden;padding: 0;position: absolute;width: 1px;}#sk-container-id-1 div.sk-estimator {font-family: monospace;background-color: #f0f8ff;border: 1px dotted black;border-radius: 0.25em;box-sizing: border-box;margin-bottom: 0.5em;}#sk-container-id-1 div.sk-estimator:hover {background-color: #d4ebff;}#sk-container-id-1 div.sk-parallel-item::after {content: \"\";width: 100%;border-bottom: 1px solid gray;flex-grow: 1;}#sk-container-id-1 div.sk-label:hover label.sk-toggleable__label {background-color: #d4ebff;}#sk-container-id-1 div.sk-serial::before {content: \"\";position: absolute;border-left: 1px solid gray;box-sizing: border-box;top: 0;bottom: 0;left: 50%;z-index: 0;}#sk-container-id-1 div.sk-serial {display: flex;flex-direction: column;align-items: center;background-color: white;padding-right: 0.2em;padding-left: 0.2em;position: relative;}#sk-container-id-1 div.sk-item {position: relative;z-index: 1;}#sk-container-id-1 div.sk-parallel {display: flex;align-items: stretch;justify-content: center;background-color: white;position: relative;}#sk-container-id-1 div.sk-item::before, #sk-container-id-1 div.sk-parallel-item::before {content: \"\";position: absolute;border-left: 1px solid gray;box-sizing: border-box;top: 0;bottom: 0;left: 50%;z-index: -1;}#sk-container-id-1 div.sk-parallel-item {display: flex;flex-direction: column;z-index: 1;position: relative;background-color: white;}#sk-container-id-1 div.sk-parallel-item:first-child::after {align-self: flex-end;width: 50%;}#sk-container-id-1 div.sk-parallel-item:last-child::after {align-self: flex-start;width: 50%;}#sk-container-id-1 div.sk-parallel-item:only-child::after {width: 0;}#sk-container-id-1 div.sk-dashed-wrapped {border: 1px dashed gray;margin: 0 0.4em 0.5em 0.4em;box-sizing: border-box;padding-bottom: 0.4em;background-color: white;}#sk-container-id-1 div.sk-label label {font-family: monospace;font-weight: bold;display: inline-block;line-height: 1.2em;}#sk-container-id-1 div.sk-label-container {text-align: center;}#sk-container-id-1 div.sk-container {/* jupyter's `normalize.less` sets `[hidden] { display: none; }` but bootstrap.min.css set `[hidden] { display: none !important; }` so we also need the `!important` here to be able to override the default hidden behavior on the sphinx rendered scikit-learn.org. See: https://github.com/scikit-learn/scikit-learn/issues/21755 */display: inline-block !important;position: relative;}#sk-container-id-1 div.sk-text-repr-fallback {display: none;}</style><div id=\"sk-container-id-1\" class=\"sk-top-container\"><div class=\"sk-text-repr-fallback\"><pre>LogisticRegression()</pre><b>In a Jupyter environment, please rerun this cell to show the HTML representation or trust the notebook. <br />On GitHub, the HTML representation is unable to render, please try loading this page with nbviewer.org.</b></div><div class=\"sk-container\" hidden><div class=\"sk-item\"><div class=\"sk-estimator sk-toggleable\"><input class=\"sk-toggleable__control sk-hidden--visually\" id=\"sk-estimator-id-1\" type=\"checkbox\" checked><label for=\"sk-estimator-id-1\" class=\"sk-toggleable__label sk-toggleable__label-arrow\">LogisticRegression</label><div class=\"sk-toggleable__content\"><pre>LogisticRegression()</pre></div></div></div></div></div>"
      ],
      "text/plain": [
       "LogisticRegression()"
      ]
     },
     "execution_count": 35,
     "metadata": {},
     "output_type": "execute_result"
    }
   ],
   "source": [
    "lr.fit(xtrain , ytrain)"
   ]
  },
  {
   "cell_type": "code",
   "execution_count": 36,
   "id": "888b0e91",
   "metadata": {},
   "outputs": [
    {
     "data": {
      "text/plain": [
       "0.7597982149786574"
      ]
     },
     "execution_count": 36,
     "metadata": {},
     "output_type": "execute_result"
    }
   ],
   "source": [
    "lr.score(xtrain , ytrain)"
   ]
  },
  {
   "cell_type": "code",
   "execution_count": 37,
   "id": "606ad2b0",
   "metadata": {},
   "outputs": [
    {
     "data": {
      "text/plain": [
       "0.7574660633484163"
      ]
     },
     "execution_count": 37,
     "metadata": {},
     "output_type": "execute_result"
    }
   ],
   "source": [
    "lr.score(xtest , ytest)"
   ]
  },
  {
   "cell_type": "code",
   "execution_count": 38,
   "id": "e5c585a3",
   "metadata": {},
   "outputs": [
    {
     "data": {
      "text/plain": [
       "array([[859, 259],\n",
       "       [277, 815]], dtype=int64)"
      ]
     },
     "execution_count": 38,
     "metadata": {},
     "output_type": "execute_result"
    }
   ],
   "source": [
    "cm = confusion_matrix(ytest , lr.predict(xtest))\n",
    "cm"
   ]
  },
  {
   "cell_type": "code",
   "execution_count": 39,
   "id": "ab0a8623",
   "metadata": {},
   "outputs": [
    {
     "data": {
      "text/plain": [
       "<Axes: >"
      ]
     },
     "execution_count": 39,
     "metadata": {},
     "output_type": "execute_result"
    },
    {
     "data": {
      "image/png": "[encoded data removed]",
      "text/plain": [
       "<Figure size 640x480 with 2 Axes>"
      ]
     },
     "metadata": {},
     "output_type": "display_data"
    }
   ],
   "source": [
    "sn.heatmap(cm,annot = True , fmt=\".2f\")"
   ]
  },
  {
   "cell_type": "code",
   "execution_count": 40,
   "id": "912b1885",
   "metadata": {},
   "outputs": [
    {
     "name": "stdout",
     "output_type": "stream",
     "text": [
      "              precision    recall  f1-score   support\n",
      "\n",
      "           0       0.76      0.77      0.76      1118\n",
      "           1       0.76      0.75      0.75      1092\n",
      "\n",
      "    accuracy                           0.76      2210\n",
      "   macro avg       0.76      0.76      0.76      2210\n",
      "weighted avg       0.76      0.76      0.76      2210\n",
      "\n"
     ]
    }
   ],
   "source": [
    "print(classification_report(ytest,lr.predict(xtest)))"
   ]
  },
  {
   "cell_type": "code",
   "execution_count": 41,
   "id": "67330b5d",
   "metadata": {},
   "outputs": [
    {
     "data": {
      "text/html": [
       "<style>#sk-container-id-2 {color: black;}#sk-container-id-2 pre{padding: 0;}#sk-container-id-2 div.sk-toggleable {background-color: white;}#sk-container-id-2 label.sk-toggleable__label {cursor: pointer;display: block;width: 100%;margin-bottom: 0;padding: 0.3em;box-sizing: border-box;text-align: center;}#sk-container-id-2 label.sk-toggleable__label-arrow:before {content: \"▸\";float: left;margin-right: 0.25em;color: #696969;}#sk-container-id-2 label.sk-toggleable__label-arrow:hover:before {color: black;}#sk-container-id-2 div.sk-estimator:hover label.sk-toggleable__label-arrow:before {color: black;}#sk-container-id-2 div.sk-toggleable__content {max-height: 0;max-width: 0;overflow: hidden;text-align: left;background-color: #f0f8ff;}#sk-container-id-2 div.sk-toggleable__content pre {margin: 0.2em;color: black;border-radius: 0.25em;background-color: #f0f8ff;}#sk-container-id-2 input.sk-toggleable__control:checked~div.sk-toggleable__content {max-height: 200px;max-width: 100%;overflow: auto;}#sk-container-id-2 input.sk-toggleable__control:checked~label.sk-toggleable__label-arrow:before {content: \"▾\";}#sk-container-id-2 div.sk-estimator input.sk-toggleable__control:checked~label.sk-toggleable__label {background-color: #d4ebff;}#sk-container-id-2 div.sk-label input.sk-toggleable__control:checked~label.sk-toggleable__label {background-color: #d4ebff;}#sk-container-id-2 input.sk-hidden--visually {border: 0;clip: rect(1px 1px 1px 1px);clip: rect(1px, 1px, 1px, 1px);height: 1px;margin: -1px;overflow: hidden;padding: 0;position: absolute;width: 1px;}#sk-container-id-2 div.sk-estimator {font-family: monospace;background-color: #f0f8ff;border: 1px dotted black;border-radius: 0.25em;box-sizing: border-box;margin-bottom: 0.5em;}#sk-container-id-2 div.sk-estimator:hover {background-color: #d4ebff;}#sk-container-id-2 div.sk-parallel-item::after {content: \"\";width: 100%;border-bottom: 1px solid gray;flex-grow: 1;}#sk-container-id-2 div.sk-label:hover label.sk-toggleable__label {background-color: #d4ebff;}#sk-container-id-2 div.sk-serial::before {content: \"\";position: absolute;border-left: 1px solid gray;box-sizing: border-box;top: 0;bottom: 0;left: 50%;z-index: 0;}#sk-container-id-2 div.sk-serial {display: flex;flex-direction: column;align-items: center;background-color: white;padding-right: 0.2em;padding-left: 0.2em;position: relative;}#sk-container-id-2 div.sk-item {position: relative;z-index: 1;}#sk-container-id-2 div.sk-parallel {display: flex;align-items: stretch;justify-content: center;background-color: white;position: relative;}#sk-container-id-2 div.sk-item::before, #sk-container-id-2 div.sk-parallel-item::before {content: \"\";position: absolute;border-left: 1px solid gray;box-sizing: border-box;top: 0;bottom: 0;left: 50%;z-index: -1;}#sk-container-id-2 div.sk-parallel-item {display: flex;flex-direction: column;z-index: 1;position: relative;background-color: white;}#sk-container-id-2 div.sk-parallel-item:first-child::after {align-self: flex-end;width: 50%;}#sk-container-id-2 div.sk-parallel-item:last-child::after {align-self: flex-start;width: 50%;}#sk-container-id-2 div.sk-parallel-item:only-child::after {width: 0;}#sk-container-id-2 div.sk-dashed-wrapped {border: 1px dashed gray;margin: 0 0.4em 0.5em 0.4em;box-sizing: border-box;padding-bottom: 0.4em;background-color: white;}#sk-container-id-2 div.sk-label label {font-family: monospace;font-weight: bold;display: inline-block;line-height: 1.2em;}#sk-container-id-2 div.sk-label-container {text-align: center;}#sk-container-id-2 div.sk-container {/* jupyter's `normalize.less` sets `[hidden] { display: none; }` but bootstrap.min.css set `[hidden] { display: none !important; }` so we also need the `!important` here to be able to override the default hidden behavior on the sphinx rendered scikit-learn.org. See: https://github.com/scikit-learn/scikit-learn/issues/21755 */display: inline-block !important;position: relative;}#sk-container-id-2 div.sk-text-repr-fallback {display: none;}</style><div id=\"sk-container-id-2\" class=\"sk-top-container\"><div class=\"sk-text-repr-fallback\"><pre>DecisionTreeClassifier()</pre><b>In a Jupyter environment, please rerun this cell to show the HTML representation or trust the notebook. <br />On GitHub, the HTML representation is unable to render, please try loading this page with nbviewer.org.</b></div><div class=\"sk-container\" hidden><div class=\"sk-item\"><div class=\"sk-estimator sk-toggleable\"><input class=\"sk-toggleable__control sk-hidden--visually\" id=\"sk-estimator-id-2\" type=\"checkbox\" checked><label for=\"sk-estimator-id-2\" class=\"sk-toggleable__label sk-toggleable__label-arrow\">DecisionTreeClassifier</label><div class=\"sk-toggleable__content\"><pre>DecisionTreeClassifier()</pre></div></div></div></div></div>"
      ],
      "text/plain": [
       "DecisionTreeClassifier()"
      ]
     },
     "execution_count": 41,
     "metadata": {},
     "output_type": "execute_result"
    }
   ],
   "source": [
    "dtc.fit(xtrain , ytrain)"
   ]
  },
  {
   "cell_type": "code",
   "execution_count": 42,
   "id": "679cb4b1",
   "metadata": {},
   "outputs": [
    {
     "data": {
      "text/plain": [
       "1.0"
      ]
     },
     "execution_count": 42,
     "metadata": {},
     "output_type": "execute_result"
    }
   ],
   "source": [
    "dtc.score(xtrain , ytrain)"
   ]
  },
  {
   "cell_type": "code",
   "execution_count": 43,
   "id": "65c55ec2",
   "metadata": {},
   "outputs": [
    {
     "data": {
      "text/plain": [
       "0.7900452488687782"
      ]
     },
     "execution_count": 43,
     "metadata": {},
     "output_type": "execute_result"
    }
   ],
   "source": [
    "dtc.score(xtest , ytest)"
   ]
  },
  {
   "cell_type": "code",
   "execution_count": 44,
   "id": "456da93b",
   "metadata": {},
   "outputs": [
    {
     "name": "stdout",
     "output_type": "stream",
     "text": [
      "              precision    recall  f1-score   support\n",
      "\n",
      "           0       0.82      0.76      0.78      1118\n",
      "           1       0.77      0.83      0.80      1092\n",
      "\n",
      "    accuracy                           0.79      2210\n",
      "   macro avg       0.79      0.79      0.79      2210\n",
      "weighted avg       0.79      0.79      0.79      2210\n",
      "\n"
     ]
    }
   ],
   "source": [
    "print(classification_report(ytest,dtc.predict(xtest)))"
   ]
  },
  {
   "cell_type": "code",
   "execution_count": 45,
   "id": "c6edc6a5",
   "metadata": {},
   "outputs": [
    {
     "data": {
      "text/plain": [
       "array([[845, 273],\n",
       "       [191, 901]], dtype=int64)"
      ]
     },
     "execution_count": 45,
     "metadata": {},
     "output_type": "execute_result"
    }
   ],
   "source": [
    "cm2 = confusion_matrix(ytest , dtc.predict(xtest))\n",
    "cm2"
   ]
  },
  {
   "cell_type": "code",
   "execution_count": 46,
   "id": "563ca05d",
   "metadata": {},
   "outputs": [
    {
     "data": {
      "text/plain": [
       "<Axes: >"
      ]
     },
     "execution_count": 46,
     "metadata": {},
     "output_type": "execute_result"
    },
    {
     "data": {
      "image/png": "[encoded data removed]",
      "text/plain": [
       "<Figure size 640x480 with 2 Axes>"
      ]
     },
     "metadata": {},
     "output_type": "display_data"
    }
   ],
   "source": [
    "sn.heatmap(cm2,annot = True , fmt=\".2f\")"
   ]
  },
  {
   "cell_type": "markdown",
   "id": "f81991e1",
   "metadata": {},
   "source": [
    "# cross validation "
   ]
  },
  {
   "cell_type": "code",
   "execution_count": 47,
   "id": "3cf3690b",
   "metadata": {},
   "outputs": [],
   "source": [
    "from sklearn.model_selection import KFold, cross_val_score\n"
   ]
  },
  {
   "cell_type": "code",
   "execution_count": 48,
   "id": "73a963f3",
   "metadata": {},
   "outputs": [],
   "source": [
    "kf=KFold(n_splits=10, shuffle=True)"
   ]
  },
  {
   "cell_type": "code",
   "execution_count": 49,
   "id": "e32d5a5d",
   "metadata": {},
   "outputs": [],
   "source": [
    "result_dtc = cross_val_score(dtc,x , y, cv=kf) "
   ]
  },
  {
   "cell_type": "code",
   "execution_count": 50,
   "id": "2e14cc94",
   "metadata": {},
   "outputs": [
    {
     "data": {
      "text/plain": [
       "array([0.83310719, 0.82496608, 0.81682497, 0.79782904, 0.79619565,\n",
       "       0.79891304, 0.79891304, 0.79891304, 0.78532609, 0.81657609])"
      ]
     },
     "execution_count": 50,
     "metadata": {},
     "output_type": "execute_result"
    }
   ],
   "source": [
    "result_dtc"
   ]
  },
  {
   "cell_type": "code",
   "execution_count": 51,
   "id": "e1d2a3c0",
   "metadata": {},
   "outputs": [
    {
     "data": {
      "text/plain": [
       "0.8067564229249011"
      ]
     },
     "execution_count": 51,
     "metadata": {},
     "output_type": "execute_result"
    }
   ],
   "source": [
    "result_dtc.mean()"
   ]
  },
  {
   "cell_type": "code",
   "execution_count": 52,
   "id": "4643c040",
   "metadata": {},
   "outputs": [],
   "source": [
    "result_lr = cross_val_score(lr,x , y, cv=kf) "
   ]
  },
  {
   "cell_type": "code",
   "execution_count": 53,
   "id": "5ab96264",
   "metadata": {},
   "outputs": [
    {
     "data": {
      "text/plain": [
       "array([0.7449118 , 0.7421981 , 0.75576662, 0.78290366, 0.75543478,\n",
       "       0.76494565, 0.75815217, 0.75543478, 0.76086957, 0.78668478])"
      ]
     },
     "execution_count": 53,
     "metadata": {},
     "output_type": "execute_result"
    }
   ],
   "source": [
    "result_lr "
   ]
  },
  {
   "cell_type": "code",
   "execution_count": 54,
   "id": "e14f8d07",
   "metadata": {},
   "outputs": [
    {
     "data": {
      "text/plain": [
       "0.7607301929089729"
      ]
     },
     "execution_count": 54,
     "metadata": {},
     "output_type": "execute_result"
    }
   ],
   "source": [
    "result_lr.mean()"
   ]
  },
  {
   "cell_type": "code",
   "execution_count": 55,
   "id": "74f1acd1",
   "metadata": {},
   "outputs": [],
   "source": [
    "from sklearn.model_selection import StratifiedKFold"
   ]
  },
  {
   "cell_type": "code",
   "execution_count": 56,
   "id": "e30bb0da",
   "metadata": {},
   "outputs": [],
   "source": [
    "st = StratifiedKFold(n_splits=10)"
   ]
  },
  {
   "cell_type": "code",
   "execution_count": 57,
   "id": "66b28d9f",
   "metadata": {},
   "outputs": [],
   "source": [
    "result2_dtc = cross_val_score(dtc, x, y, cv=st) "
   ]
  },
  {
   "cell_type": "code",
   "execution_count": 58,
   "id": "831fb7e3",
   "metadata": {},
   "outputs": [
    {
     "data": {
      "text/plain": [
       "0.8161502271252432"
      ]
     },
     "execution_count": 58,
     "metadata": {},
     "output_type": "execute_result"
    }
   ],
   "source": [
    "result2_dtc.mean()"
   ]
  },
  {
   "cell_type": "code",
   "execution_count": 59,
   "id": "db531323",
   "metadata": {},
   "outputs": [],
   "source": [
    "result2_lr = cross_val_score(lr, x, y, cv=st) "
   ]
  },
  {
   "cell_type": "code",
   "execution_count": 60,
   "id": "01b7e895",
   "metadata": {},
   "outputs": [
    {
     "data": {
      "text/plain": [
       "0.7609964013922482"
      ]
     },
     "execution_count": 60,
     "metadata": {},
     "output_type": "execute_result"
    }
   ],
   "source": [
    "result2_lr.mean()"
   ]
  },
  {
   "cell_type": "code",
   "execution_count": 61,
   "id": "2756e5bc",
   "metadata": {},
   "outputs": [
    {
     "data": {
      "text/plain": [
       "StratifiedKFold(n_splits=10, random_state=None, shuffle=False)"
      ]
     },
     "execution_count": 61,
     "metadata": {},
     "output_type": "execute_result"
    }
   ],
   "source": [
    "st"
   ]
  },
  {
   "cell_type": "code",
   "execution_count": 62,
   "id": "7ad5da12",
   "metadata": {},
   "outputs": [
    {
     "data": {
      "text/plain": [
       "KFold(n_splits=10, random_state=None, shuffle=True)"
      ]
     },
     "execution_count": 62,
     "metadata": {},
     "output_type": "execute_result"
    }
   ],
   "source": [
    "kf"
   ]
  },
  {
   "cell_type": "code",
   "execution_count": 63,
   "id": "ca1dd012",
   "metadata": {},
   "outputs": [],
   "source": [
    "import joblib as jb"
   ]
  },
  {
   "cell_type": "code",
   "execution_count": 65,
   "id": "b4af5d15",
   "metadata": {},
   "outputs": [
    {
     "data": {
      "text/plain": [
       "['voice_model2']"
      ]
     },
     "execution_count": 65,
     "metadata": {},
     "output_type": "execute_result"
    }
   ],
   "source": [
    "jb.dump(dtc,'voice_model2')"
   ]
  },
  {
   "cell_type": "code",
   "execution_count": null,
   "id": "e397342b",
   "metadata": {},
   "outputs": [],
   "source": []
  }
 ],
 "metadata": {
  "kernelspec": {
   "display_name": "Python 3 (ipykernel)",
   "language": "python",
   "name": "python3"
  },
  "language_info": {
   "codemirror_mode": {
    "name": "ipython",
    "version": 3
   },
   "file_extension": ".py",
   "mimetype": "text/x-python",
   "name": "python",
   "nbconvert_exporter": "python",
   "pygments_lexer": "ipython3",
   "version": "3.11.5"
  }
 },
 "nbformat": 4,
 "nbformat_minor": 5
}
